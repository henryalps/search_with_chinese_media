{
 "cells": [
  {
   "cell_type": "code",
   "execution_count": null,
   "metadata": {},
   "outputs": [],
   "source": [
    "!git clone https://github.com/NanmiCoder/MediaCrawler.git "
   ]
  },
  {
   "cell_type": "code",
   "execution_count": null,
   "metadata": {},
   "outputs": [],
   "source": [
    "!sudo apt-get install nodejs --yes"
   ]
  },
  {
   "cell_type": "code",
   "execution_count": null,
   "metadata": {},
   "outputs": [],
   "source": [
    "!curl -L https://www.npmjs.com/install.sh | sh"
   ]
  },
  {
   "cell_type": "code",
   "execution_count": 4,
   "metadata": {},
   "outputs": [],
   "source": [
    "!npm config set registry http://mirrors.cloud.tencent.com/npm/"
   ]
  },
  {
   "cell_type": "code",
   "execution_count": null,
   "metadata": {},
   "outputs": [],
   "source": [
    "!cd web && npm install && npm run build"
   ]
  },
  {
   "cell_type": "code",
   "execution_count": null,
   "metadata": {},
   "outputs": [],
   "source": [
    "!sudo apt-get install libjpeg-dev zlib1g-dev --yes"
   ]
  },
  {
   "cell_type": "code",
   "execution_count": null,
   "metadata": {},
   "outputs": [],
   "source": [
    "!pip install --upgrade pip setuptools wheel\n",
    "!pip install Pillow"
   ]
  },
  {
   "cell_type": "code",
   "execution_count": null,
   "metadata": {},
   "outputs": [],
   "source": [
    "!pip install -r requirements.txt"
   ]
  },
  {
   "cell_type": "code",
   "execution_count": 14,
   "metadata": {},
   "outputs": [
    {
     "name": "stdout",
     "output_type": "stream",
     "text": [
      "/root/miniconda3/lib/python3.12/site-packages/leptonai/photon/photon.py:577: RuntimeWarning: This photon expects secret GOOGLE_SEARCH_API_KEY, but it's not set. Please set it before running the photon, or you may get unexpected behavior.\n",
      "  warnings.warn(\n",
      "/root/miniconda3/lib/python3.12/site-packages/leptonai/photon/photon.py:577: RuntimeWarning: This photon expects secret SERPER_SEARCH_API_KEY, but it's not set. Please set it before running the photon, or you may get unexpected behavior.\n",
      "  warnings.warn(\n",
      "/root/miniconda3/lib/python3.12/site-packages/leptonai/photon/photon.py:577: RuntimeWarning: This photon expects secret SEARCHAPI_API_KEY, but it's not set. Please set it before running the photon, or you may get unexpected behavior.\n",
      "  warnings.warn(\n",
      "/root/miniconda3/lib/python3.12/site-packages/leptonai/photon/photon.py:577: RuntimeWarning: This photon expects secret LEPTON_WORKSPACE_TOKEN, but it's not set. Please set it before running the photon, or you may get unexpected behavior.\n",
      "  warnings.warn(\n",
      "\u001b[32m2024-04-26 09:09:54.486\u001b[0m | \u001b[1mINFO    \u001b[0m | \u001b[36m__main__\u001b[0m:\u001b[36minit\u001b[0m:\u001b[36m426\u001b[0m - \u001b[1mCreating KV. May take a while for the first time.\u001b[0m\n",
      "\u001b[32m2024-04-26 09:10:08.471\u001b[0m | \u001b[1mINFO    \u001b[0m | \u001b[36mleptonai.photon.photon\u001b[0m:\u001b[36m_uvicorn_run\u001b[0m:\u001b[36m797\u001b[0m - \u001b[1mSetting up signal handlers for graceful incoming traffic shutdown after 5 seconds.\u001b[0m\n",
      "2024-04-26 09:10:08,471 - \u001b[32mINFO\u001b[0m:  \n",
      "If you are using standard photon, a few urls that may be helpful:\n",
      "\t- \u001b[32m\u001b[1mhttp://0.0.0.0:8080/docs\u001b[0m OpenAPI documentation\n",
      "\t- \u001b[32m\u001b[1mhttp://0.0.0.0:8080/redoc\u001b[0m Redoc documentation\n",
      "\t- \u001b[32m\u001b[1mhttp://0.0.0.0:8080/openapi.json\u001b[0m Raw OpenAPI schema\n",
      "\t- \u001b[32m\u001b[1mhttp://0.0.0.0:8080/metrics\u001b[0m Prometheus metrics\n",
      "\n",
      "If you are using python clients, here is an example code snippet:\n",
      "\tfrom leptonai.client import Client, local\n",
      "\tclient = Client(local(port=8080))\n",
      "\tclient.healthz()  # checks the health of the photon\n",
      "\tclient.paths()  # lists all the paths of the photon\n",
      "\tclient.method_name?  # If client has a method_name method, get the docstring\n",
      "\tclient.method_name(...)  # calls the method_name method\n",
      "If you are using ipython, you can use tab completion by typing `client.` and then press tab.\n",
      "\t\n",
      "2024-04-26 09:10:08,496 - \u001b[32mINFO\u001b[0m:     Started server process [\u001b[36m115275\u001b[0m]\n",
      "2024-04-26 09:10:08,496 - \u001b[32mINFO\u001b[0m:     Waiting for application startup.\n",
      "\u001b[32m2024-04-26 09:10:08.497\u001b[0m | \u001b[1mINFO    \u001b[0m | \u001b[36mleptonai.photon.photon\u001b[0m:\u001b[36muvicorn_startup\u001b[0m:\u001b[36m748\u001b[0m - \u001b[1mStarting photon app - running startup prep code.\u001b[0m\n",
      "2024-04-26 09:10:08,497 - \u001b[32mINFO\u001b[0m:     Application startup complete.\n",
      "2024-04-26 09:10:08,497 - \u001b[32mINFO\u001b[0m:     Uvicorn running on \u001b[1mhttp://0.0.0.0:8080\u001b[0m (Press CTRL+C to quit)\n",
      "2024-04-26 09:10:45,264 - \u001b[32mINFO\u001b[0m:     127.0.0.1:34504 - \"\u001b[1mGET / HTTP/1.1\u001b[0m\" \u001b[33m307 Temporary Redirect\u001b[0m\n",
      "2024-04-26 09:10:45,429 - \u001b[32mINFO\u001b[0m:     127.0.0.1:34504 - \"\u001b[1mGET /ui/index.html HTTP/1.1\u001b[0m\" \u001b[32m200 OK\u001b[0m\n",
      "2024-04-26 09:10:45,585 - \u001b[32mINFO\u001b[0m:     127.0.0.1:34504 - \"\u001b[1mGET /ui/_next/static/media/c9a5bc6a7c948fb0-s.p.woff2 HTTP/1.1\u001b[0m\" \u001b[32m200 OK\u001b[0m\n",
      "2024-04-26 09:10:45,791 - \u001b[32mINFO\u001b[0m:     127.0.0.1:34504 - \"\u001b[1mGET /ui/_next/static/chunks/899-d690f36807a22851.js HTTP/1.1\u001b[0m\" \u001b[32m200 OK\u001b[0m\n",
      "2024-04-26 09:10:45,971 - \u001b[32mINFO\u001b[0m:     127.0.0.1:34504 - \"\u001b[1mGET /ui/_next/static/chunks/app/page-4a2ae678c670e438.js HTTP/1.1\u001b[0m\" \u001b[32m200 OK\u001b[0m\n",
      "2024-04-26 09:10:46,061 - \u001b[32mINFO\u001b[0m:     127.0.0.1:34516 - \"\u001b[1mGET /ui/_next/static/css/34b825d4399f904a.css HTTP/1.1\u001b[0m\" \u001b[32m200 OK\u001b[0m\n",
      "2024-04-26 09:10:46,108 - \u001b[32mINFO\u001b[0m:     127.0.0.1:34522 - \"\u001b[1mGET /ui/_next/static/chunks/fd9d1056-7fda3e9b28bca7f7.js HTTP/1.1\u001b[0m\" \u001b[32m200 OK\u001b[0m\n",
      "2024-04-26 09:10:46,115 - \u001b[32mINFO\u001b[0m:     127.0.0.1:34536 - \"\u001b[1mGET /ui/_next/static/chunks/webpack-4623d8b36ad88fc2.js HTTP/1.1\u001b[0m\" \u001b[32m200 OK\u001b[0m\n",
      "2024-04-26 09:10:46,151 - \u001b[32mINFO\u001b[0m:     127.0.0.1:34552 - \"\u001b[1mGET /ui/_next/static/chunks/938-fe6b19e2b7ce9569.js HTTP/1.1\u001b[0m\" \u001b[32m200 OK\u001b[0m\n",
      "2024-04-26 09:10:46,193 - \u001b[32mINFO\u001b[0m:     127.0.0.1:34554 - \"\u001b[1mGET /ui/_next/static/chunks/main-app-1523b412547f26a3.js HTTP/1.1\u001b[0m\" \u001b[32m200 OK\u001b[0m\n",
      "2024-04-26 09:10:46,288 - \u001b[32mINFO\u001b[0m:     127.0.0.1:34522 - \"\u001b[1mGET /ui/favicon.ico HTTP/1.1\u001b[0m\" \u001b[32m200 OK\u001b[0m\n",
      "2024-04-26 09:10:46,505 - \u001b[32mINFO\u001b[0m:     127.0.0.1:34522 - \"\u001b[1mGET /ui/icon.svg?44caf27747beea7f HTTP/1.1\u001b[0m\" \u001b[32m200 OK\u001b[0m\n"
     ]
    }
   ],
   "source": [
    "!export BING_SEARCH_V7_SUBSCRIPTION_KEY=YOUR_BING_SUBSCRIPTION_KEY && BACKEND=BING python search_with_lepton.py"
   ]
  },
  {
   "cell_type": "code",
   "execution_count": null,
   "metadata": {},
   "outputs": [],
   "source": []
  }
 ],
 "metadata": {
  "kernelspec": {
   "display_name": "base",
   "language": "python",
   "name": "python3"
  },
  "language_info": {
   "codemirror_mode": {
    "name": "ipython",
    "version": 3
   },
   "file_extension": ".py",
   "mimetype": "text/x-python",
   "name": "python",
   "nbconvert_exporter": "python",
   "pygments_lexer": "ipython3",
   "version": "3.12.2"
  }
 },
 "nbformat": 4,
 "nbformat_minor": 2
}
